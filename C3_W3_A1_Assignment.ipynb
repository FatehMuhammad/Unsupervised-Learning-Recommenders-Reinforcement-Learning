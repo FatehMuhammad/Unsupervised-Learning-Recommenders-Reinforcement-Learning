{
 "cells": [
  {
   "cell_type": "markdown",
   "metadata": {},
   "source": [
    "# Deep Q-Learning - Lunar Lander\n",
    "\n",
    "In this assignment, you will train an agent to land a lunar lander safely on a landing pad on the surface of the moon.\n",
    "\n",
    "\n",
    "# Outline\n",
    "- [ 1 - Import Packages <img align=\"Right\" src=\"./images/lunar_lander.gif\" width = 60% >](#1)\n",
    "- [ 2 - Hyperparameters](#2)\n",
    "- [ 3 - The Lunar Lander Environment](#3)\n",
    "  - [ 3.1 Action Space](#3.1)\n",
    "  - [ 3.2 Observation Space](#3.2)\n",
    "  - [ 3.3 Rewards](#3.3)\n",
    "  - [ 3.4 Episode Termination](#3.4)\n",
    "- [ 4 - Load the Environment](#4)\n",
    "- [ 5 - Interacting with the Gym Environment](#5)\n",
    "    - [ 5.1 Exploring the Environment's Dynamics](#5.1)\n",
    "- [ 6 - Deep Q-Learning](#6)\n",
    "  - [ 6.1 Target Network](#6.1)\n",
    "    - [ Exercise 1](#ex01)\n",
    "  - [ 6.2 Experience Replay](#6.2)\n",
    "- [ 7 - Deep Q-Learning Algorithm with Experience Replay](#7)\n",
    "  - [ Exercise 2](#ex02)\n",
    "- [ 8 - Update the Network Weights](#8)\n",
    "- [ 9 - Train the Agent](#9)\n",
    "- [ 10 - See the Trained Agent In Action](#10)\n",
    "- [ 11 - Congratulations!](#11)\n",
    "- [ 12 - References](#12)\n"
   ]
  },
  {
   "cell_type": "markdown",
   "metadata": {},
   "source": [
    "<a name=\"1\"></a>\n",
    "## 1 - Import Packages\n",
    "\n",
    "We'll make use of the following packages:\n",
    "- `numpy` is a package for scientific computing in python.\n",
    "- `deque` will be our data structure for our memory buffer.\n",
    "- `namedtuple` will be used to store the experience tuples.\n",
    "- The `gym` toolkit is a collection of environments that can be used to test reinforcement learning algorithms. We should note that in this notebook we are using `gym` version `0.24.0`.\n",
    "- `PIL.Image` and `pyvirtualdisplay` are needed to render the Lunar Lander environment.\n",
    "- We will use several modules from the `tensorflow.keras` framework for building deep learning models.\n",
    "- `utils` is a module that contains helper functions for this assignment. You do not need to modify the code in this file.\n",
    "\n",
    "Run the cell below to import all the necessary packages."
   ]
  },
  {
   "cell_type": "code",
   "execution_count": 1,
   "metadata": {
    "id": "KYbOPKRtfQOr"
   },
   "outputs": [],
   "source": [
    "import time\n",
    "from collections import deque, namedtuple\n",
    "\n",
    "import gym\n",
    "import numpy as np\n",
    "import PIL.Image\n",
    "import tensorflow as tf\n",
    "import utils\n",
    "\n",
    "from pyvirtualdisplay import Display\n",
    "from tensorflow.keras import Sequential\n",
    "from tensorflow.keras.layers import Dense, Input\n",
    "from tensorflow.keras.losses import MSE\n",
    "from tensorflow.keras.optimizers import Adam"
   ]
  },
  {
   "cell_type": "code",
   "execution_count": 2,
   "metadata": {},
   "outputs": [],
   "source": [
    "# Set up a virtual display to render the Lunar Lander environment.\n",
    "Display(visible=0, size=(840, 480)).start();\n",
    "\n",
    "# Set the random seed for TensorFlow.\n",
    "tf.random.set_seed(utils.SEED)"
   ]
  },
  {
   "cell_type": "markdown",
   "metadata": {},
   "source": [
    "<a name=\"2\"></a>\n",
    "## 2 - Hyperparameters\n",
    "\n",
    "Run the cell below to set the hyperparameters."
   ]
  },
  {
   "cell_type": "code",
   "execution_count": 3,
   "metadata": {},
   "outputs": [],
   "source": [
    "MEMORY_SIZE = 100_000     # size of memory buffer.\n",
    "GAMMA = 0.995             # discount factor.\n",
    "ALPHA = 1e-3              # learning rate.\n",
    "NUM_STEPS_FOR_UPDATE = 4  # perform a learning update every C time steps."
   ]
  },
  {
   "cell_type": "markdown",
   "metadata": {},
   "source": [
    "<a name=\"3\"></a>\n",
    "## 3 - The Lunar Lander Environment\n",
    "\n",
    "In this notebook we will be using [OpenAI's Gym Library](https://www.gymlibrary.dev/). The Gym library provides a wide variety of environments for reinforcement learning. To put it simply, an environment represents a problem or task to be solved. In this notebook, we will try to solve the Lunar Lander environment using reinforcement learning.\n",
    "\n",
    "The goal of the Lunar Lander environment is to land the lunar lander safely on the landing pad on the surface of the moon. The landing pad is designated by two flag poles and it is always at coordinates `(0,0)` but the lander is also allowed to land outside of the landing pad. The lander starts at the top center of the environment with a random initial force applied to its center of mass and has infinite fuel. The environment is considered solved if you get `200` points. \n",
    "\n",
    "<br>\n",
    "<br>\n",
    "<figure>\n",
    "  <img src = \"images/lunar_lander.gif\" width = 40%>\n",
    "      <figcaption style = \"text-align: center; font-style: italic\">Fig 1. Lunar Lander Environment.</figcaption>\n",
    "</figure>\n",
    "\n",
    "\n",
    "\n",
    "<a name=\"3.1\"></a>\n",
    "### 3.1 Action Space\n",
    "\n",
    "The agent has four discrete actions available:\n",
    "\n",
    "* Do nothing.\n",
    "* Fire right engine.\n",
    "* Fire main engine.\n",
    "* Fire left engine.\n",
    "\n",
    "Each action has a corresponding numerical value:\n",
    "\n",
    "```python\n",
    "Do nothing = 0\n",
    "Fire right engine = 1\n",
    "Fire main engine = 2\n",
    "Fire left engine = 3\n",
    "```\n",
    "\n",
    "<a name=\"3.2\"></a>\n",
    "### 3.2 Observation Space\n",
    "\n",
    "The agent's observation space consists of a state vector with 8 variables:\n",
    "\n",
    "* Its $(x,y)$ coordinates. The landing pad is always at coordinates $(0,0)$.\n",
    "* Its linear velocities $(\\dot x,\\dot y)$.\n",
    "* Its angle $\\theta$.\n",
    "* Its angular velocity $\\dot \\theta$.\n",
    "* Two booleans, $l$ and $r$, that represent whether each leg is in contact with the ground or not.\n",
    "\n",
    "<a name=\"3.3\"></a>\n",
    "### 3.3 Rewards\n",
    "\n",
    "The Lunar Lander environment has the following reward system:\n",
    "\n",
    "* Landing on the landing pad and coming to rest is about 100-140 points.\n",
    "* If the lander moves away from the landing pad, it loses reward. \n",
    "* If the lander crashes, it receives -100 points.\n",
    "* If the lander comes to rest, it receives +100 points.\n",
    "* Each leg with ground contact is +10 points.\n",
    "* Firing the main engine is -0.3 points each frame.\n",
    "* Firing the side engine is -0.03 points each frame.\n",
    "\n",
    "<a name=\"3.4\"></a>\n",
    "### 3.4 Episode Termination\n",
    "\n",
    "An episode ends (i.e the environment enters a terminal state) if:\n",
    "\n",
    "* The lunar lander crashes (i.e if the body of the lunar lander comes in contact with the surface of the moon).\n",
    "\n",
    "* The absolute value of the lander's $x$-coordinate is greater than 1 (i.e. it goes beyond the left or right border)\n",
    "\n",
    "You can check out the [Open AI Gym documentation](https://www.gymlibrary.dev/environments/box2d/lunar_lander/) for a full description of the environment. "
   ]
  },
  {
   "cell_type": "markdown",
   "metadata": {},
   "source": [
    "<a name=\"4\"></a>\n",
    "## 4 - Load the Environment\n",
    "\n",
    "We start by loading the `LunarLander-v2` environment from the `gym` library by using the `.make()` method. `LunarLander-v2` is the latest version of the Lunar Lander environment and you can read about its version history in the [Open AI Gym documentation](https://www.gymlibrary.dev/environments/box2d/lunar_lander/#version-history)."
   ]
  },
  {
   "cell_type": "code",
   "execution_count": 4,
   "metadata": {
    "id": "ILVMYKewfR0n"
   },
   "outputs": [],
   "source": [
    "env = gym.make('LunarLander-v2')"
   ]
  },
  {
   "cell_type": "markdown",
   "metadata": {},
   "source": [
    "Once we load the environment we use the `.reset()` method to reset the environment to the initial state. The lander starts at the top center of the environment and we can render the first frame of the environment by using the `.render()` method."
   ]
  },
  {
   "cell_type": "code",
   "execution_count": 5,
   "metadata": {},
   "outputs": [
    {
     "data": {
      "image/png": "[encoded data removed]",
      "text/plain": [
       "<PIL.Image.Image image mode=RGB size=600x400 at 0x7FD8C296C050>"
      ]
     },
     "execution_count": 5,
     "metadata": {},
     "output_type": "execute_result"
    }
   ],
   "source": [
    "env.reset()\n",
    "PIL.Image.fromarray(env.render(mode='rgb_array'))"
   ]
  },
  {
   "cell_type": "markdown",
   "metadata": {},
   "source": [
    "In order to build our neural network later on we need to know the size of the state vector and the number of valid actions. We can get this information from our environment by using the `.observation_space.shape` and `action_space.n` methods, respectively."
   ]
  },
  {
   "cell_type": "code",
   "execution_count": 6,
   "metadata": {
    "id": "x3fdqdG4CUu2"
   },
   "outputs": [
    {
     "name": "stdout",
     "output_type": "stream",
     "text": [
      "State Shape: (8,)\n",
      "Number of actions: 4\n"
     ]
    }
   ],
   "source": [
    "state_size = env.observation_space.shape\n",
    "num_actions = env.action_space.n\n",
    "\n",
    "print('State Shape:', state_size)\n",
    "print('Number of actions:', num_actions)"
   ]
  },
  {
   "cell_type": "markdown",
   "metadata": {},
   "source": [
    "<a name=\"5\"></a>\n",
    "## 5 - Interacting with the Gym Environment\n",
    "\n",
    "The Gym library implements the standard “agent-environment loop” formalism:\n",
    "\n",
    "<br>\n",
    "<center>\n",
    "<video src = \"./videos/rl_formalism.m4v\" width=\"840\" height=\"480\" controls autoplay loop poster=\"./images/rl_formalism.png\"> </video>\n",
    "<figcaption style = \"text-align:center; font-style:italic\">Fig 2. Agent-environment Loop Formalism.</figcaption>\n",
    "</center>\n",
    "<br>\n",
    "\n",
    "In the standard “agent-environment loop” formalism, an agent interacts with the environment in discrete time steps $t=0,1,2,...$. At each time step $t$, the agent uses a policy $\\pi$ to select an action $A_t$ based on its observation of the environment's state $S_t$. The agent receives a numerical reward $R_t$ and on the next time step, moves to a new state $S_{t+1}$.\n",
    "\n",
    "<a name=\"5.1\"></a>\n",
    "### 5.1 Exploring the Environment's Dynamics\n",
    "\n",
    "In Open AI's Gym environments, we use the `.step()` method to run a single time step of the environment's dynamics. In the version of `gym` that we are using the `.step()` method accepts an action and returns four values:\n",
    "\n",
    "* `observation` (**object**): an environment-specific object representing your observation of the environment. In the Lunar Lander environment this corresponds to a numpy array containing the positions and velocities of the lander as described in section [3.2 Observation Space](#3.2).\n",
    "\n",
    "\n",
    "* `reward` (**float**): amount of reward returned as a result of taking the given action. In the Lunar Lander environment this corresponds to a float of type `numpy.float64` as described in section [3.3 Rewards](#3.3).\n",
    "\n",
    "\n",
    "* `done` (**boolean**): When done is `True`, it indicates the episode has terminated and it’s time to reset the environment. \n",
    "\n",
    "\n",
    "* `info` (**dictionary**): diagnostic information useful for debugging. We won't be using this variable in this notebook but it is shown here for completeness.\n",
    "\n",
    "To begin an episode, we need to reset the environment to an initial state. We do this by using the `.reset()` method. "
   ]
  },
  {
   "cell_type": "code",
   "execution_count": 7,
   "metadata": {},
   "outputs": [],
   "source": [
    "# Reset the environment and get the initial state.\n",
    "initial_state = env.reset()"
   ]
  },
  {
   "cell_type": "markdown",
   "metadata": {},
   "source": [
    "Once the environment is reset, the agent can start taking actions in the environment by using the `.step()` method. Note that the agent can only take one action per time step. \n",
    "\n",
    "In the cell below you can select different actions and see how the returned values change depending on the action taken. Remember that in this environment the agent has four discrete actions available and we specify them in code by using their corresponding numerical value:\n",
    "\n",
    "```python\n",
    "Do nothing = 0\n",
    "Fire right engine = 1\n",
    "Fire main engine = 2\n",
    "Fire left engine = 3\n",
    "```"
   ]
  },
  {
   "cell_type": "code",
   "execution_count": 8,
   "metadata": {},
   "outputs": [
    {
     "data": {
      "text/html": [
       "<table class=\"simpletable\">\n",
       "<tr>\n",
       "  <th>Initial State:</th>      <td>[0.002 1.422 0.194 0.506 -0.002 -0.044 0.000 0.000]</td>\n",
       "</tr>\n",
       "<tr>\n",
       "  <th>Action:</th>                                 <td>Do nothing</td>                     \n",
       "</tr>\n",
       "<tr>\n",
       "  <th>Next State:</th>         <td>[0.004 1.433 0.194 0.480 -0.004 -0.044 0.000 0.000]</td>\n",
       "</tr>\n",
       "<tr>\n",
       "  <th>Reward Received:</th>                           <td>1.104</td>                       \n",
       "</tr>\n",
       "<tr>\n",
       "  <th>Episode Terminated:</th>                        <td>False</td>                       \n",
       "</tr>\n",
       "</table>"
      ],
      "text/plain": [
       "<class 'statsmodels.iolib.table.SimpleTable'>"
      ]
     },
     "execution_count": 8,
     "metadata": {},
     "output_type": "execute_result"
    }
   ],
   "source": [
    "# Select an action.\n",
    "action = 0\n",
    "\n",
    "# Run a single time step of the environment's dynamics with the given action.\n",
    "next_state, reward, done, _ = env.step(action)\n",
    "\n",
    "# Display table with values. All values are displayed to 3 decimal places.\n",
    "utils.display_table(initial_state, action, next_state, reward, done)"
   ]
  },
  {
   "cell_type": "markdown",
   "metadata": {},
   "source": [
    "In practice, when we train the agent we use a loop to allow the agent to take many consecutive actions during an episode."
   ]
  },
  {
   "cell_type": "markdown",
   "metadata": {},
   "source": [
    "<a name=\"6\"></a>\n",
    "## 6 - Deep Q-Learning\n",
    "\n",
    "In cases where both the state and action space are discrete we can estimate the action-value function iteratively by using the Bellman equation:\n",
    "\n",
    "$$\n",
    "Q_{i+1}(s,a) = R + \\gamma \\max_{a'}Q_i(s',a')\n",
    "$$\n",
    "\n",
    "This iterative method converges to the optimal action-value function $Q^*(s,a)$ as $i\\to\\infty$. This means that the agent just needs to gradually explore the state-action space and keep updating the estimate of $Q(s,a)$ until it converges to the optimal action-value function $Q^*(s,a)$. However, in cases where the state space is continuous it becomes practically impossible to explore the entire state-action space. Consequently, this also makes it practically impossible to gradually estimate $Q(s,a)$ until it converges to $Q^*(s,a)$.\n",
    "\n",
    "In the Deep $Q$-Learning, we solve this problem by using a neural network to estimate the action-value function $Q(s,a)\\approx Q^*(s,a)$. We call this neural network a $Q$-Network and it can be trained by adjusting its weights at each iteration to minimize the mean-squared error in the Bellman equation.\n",
    "\n",
    "Unfortunately, using neural networks in reinforcement learning to estimate action-value functions has proven to be highly unstable. Luckily, there's a couple of techniques that can be employed to avoid instabilities. These techniques consist of using a ***Target Network*** and ***Experience Replay***. We will explore these two techniques in the following sections."
   ]
  },
  {
   "cell_type": "markdown",
   "metadata": {},
   "source": [
    "<a name=\"6.1\"></a>\n",
    "### 6.1 Target Network\n",
    "\n",
    "We can train the $Q$-Network by adjusting it's weights at each iteration to minimize the mean-squared error in the Bellman equation, where the target values are given by:\n",
    "\n",
    "$$\n",
    "y = R + \\gamma \\max_{a'}Q(s',a';w)\n",
    "$$\n",
    "\n",
    "where $w$ are the weights of the $Q$-Network. This means that we are adjusting the weights $w$ at each iteration to minimize the following error:\n",
    "\n",
    "$$\n",
    "\\overbrace{\\underbrace{R + \\gamma \\max_{a'}Q(s',a'; w)}_{\\rm {y~target}} - Q(s,a;w)}^{\\rm {Error}}\n",
    "$$\n",
    "\n",
    "Notice that this forms a problem because the $y$ target is changing on every iteration. Having a constantly moving target can lead to oscillations and instabilities. To avoid this, we can create\n",
    "a separate neural network for generating the $y$ targets. We call this separate neural network the **target $\\hat Q$-Network** and it will have the same architecture as the original $Q$-Network. By using the target $\\hat Q$-Network, the above error becomes:\n",
    "\n",
    "$$\n",
    "\\overbrace{\\underbrace{R + \\gamma \\max_{a'}\\hat{Q}(s',a'; w^-)}_{\\rm {y~target}} - Q(s,a;w)}^{\\rm {Error}}\n",
    "$$\n",
    "\n",
    "where $w^-$ and $w$ are the weights the target $\\hat Q$-Network and $Q$-Network, respectively.\n",
    "\n",
    "In practice, we will use the following algorithm: every $C$ time steps we will use the $\\hat Q$-Network to generate the $y$ targets and update the weights of the target $\\hat Q$-Network using the weights of the $Q$-Network. We will update the weights $w^-$ of the the target $\\hat Q$-Network using a **soft update**. This means that we will update the weights $w^-$ using the following rule:\n",
    " \n",
    "$$\n",
    "w^-\\leftarrow \\tau w + (1 - \\tau) w^-\n",
    "$$\n",
    "\n",
    "where $\\tau\\ll 1$. By using the soft update, we are ensuring that the target values, $y$, change slowly, which greatly improves the stability of our learning algorithm."
   ]
  },
  {
   "cell_type": "markdown",
   "metadata": {},
   "source": [
    "<a name=\"ex01\"></a>\n",
    "### Exercise 1\n",
    "\n",
    "In this exercise you will create the $Q$ and target $\\hat Q$ networks and set the optimizer. Remember that the Deep $Q$-Network (DQN) is a neural network that approximates the action-value function $Q(s,a)\\approx Q^*(s,a)$. It does this by learning how to map states to $Q$ values.\n",
    "\n",
    "To solve the Lunar Lander environment, we are going to employ a DQN with the following architecture:\n",
    "\n",
    "* An `Input` layer that takes `state_size` as input.\n",
    "\n",
    "* A `Dense` layer with `64` units and a `relu` activation function.\n",
    "\n",
    "* A `Dense` layer with `64` units and a `relu` activation function.\n",
    "\n",
    "* A `Dense` layer with `num_actions` units and a `linear` activation function. This will be the output layer of our network.\n",
    "\n",
    "\n",
    "In the cell below you should create the $Q$-Network and the target $\\hat Q$-Network using the model architecture described above. Remember that both the $Q$-Network and the target $\\hat Q$-Network have the same architecture.\n",
    "\n",
    "Lastly, you should set `Adam` as the optimizer with a learning rate equal to `ALPHA`. Recall that `ALPHA` was defined in the [Hyperparameters](#2) section. We should note that for this exercise you should use the already imported packages:\n",
    "```python\n",
    "from tensorflow.keras.layers import Dense, Input\n",
    "from tensorflow.keras.optimizers import Adam\n",
    "```"
   ]
  },
  {
   "cell_type": "code",
   "execution_count": 9,
   "metadata": {},
   "outputs": [],
   "source": [
    "# UNQ_C1\n",
    "# GRADED CELL\n",
    "\n",
    "# Create the Q-Network.\n",
    "q_network = Sequential([\n",
    "    ### START CODE HERE ### \n",
    "    Input(shape=state_size),                      \n",
    "    Dense(units=64, activation='relu'),            \n",
    "    Dense(units=64, activation='relu'),            \n",
    "    Dense(units=num_actions, activation='linear'),\n",
    "    ### END CODE HERE ### \n",
    "    ])\n",
    "\n",
    "# Create the target Q^-Network.\n",
    "target_q_network = Sequential([\n",
    "    ### START CODE HERE ### \n",
    "    Input(shape=state_size),                       \n",
    "    Dense(units=64, activation='relu'),            \n",
    "    Dense(units=64, activation='relu'),            \n",
    "    Dense(units=num_actions, activation='linear'),\n",
    "    ### END CODE HERE ###\n",
    "    ])\n",
    "\n",
    "### START CODE HERE ### \n",
    "optimizer = Adam(learning_rate=ALPHA)\n",
    "### END CODE HERE ###"
   ]
  },
  {
   "cell_type": "code",
   "execution_count": 10,
   "metadata": {},
   "outputs": [
    {
     "name": "stdout",
     "output_type": "stream",
     "text": [
      "\u001b[92mAll tests passed!\n",
      "\u001b[92mAll tests passed!\n",
      "\u001b[92mAll tests passed!\n"
     ]
    }
   ],
   "source": [
    "# UNIT TEST\n",
    "from public_tests import *\n",
    "\n",
    "test_network(q_network)\n",
    "test_network(target_q_network)\n",
    "test_optimizer(optimizer, ALPHA) "
   ]
  },
  {
   "cell_type": "markdown",
   "metadata": {},
   "source": [
    "<details>\n",
    "  <summary><font size=\"3\" color=\"darkgreen\"><b>Click for hints</b></font></summary>\n",
    "    \n",
    "```python\n",
    "# Create the Q-Network.\n",
    "q_network = Sequential([\n",
    "    Input(shape=state_size),                      \n",
    "    Dense(units=64, activation='relu'),            \n",
    "    Dense(units=64, activation='relu'),            \n",
    "    Dense(units=num_actions, activation='linear'),\n",
    "    ])\n",
    "\n",
    "# Create the target Q^-Network.\n",
    "target_q_network = Sequential([\n",
    "    Input(shape=state_size),                       \n",
    "    Dense(units=64, activation='relu'),            \n",
    "    Dense(units=64, activation='relu'),            \n",
    "    Dense(units=num_actions, activation='linear'), \n",
    "    ])\n",
    "\n",
    "optimizer = Adam(learning_rate=ALPHA)                                  \n",
    "``` "
   ]
  },
  {
   "cell_type": "markdown",
   "metadata": {},
   "source": [
    "<a name=\"6.2\"></a>\n",
    "### 6.2 Experience Replay\n",
    "\n",
    "When an agent interacts with the environment, the states, actions, and rewards the agent experiences are sequential by nature. If the agent tries to learn from these consecutive experiences it can run into problems due to the strong correlations between them. To avoid this, we employ a technique known as **Experience Replay** to generate uncorrelated experiences for training our agent. Experience replay consists of storing the agent's experiences (i.e the states, actions, and rewards the agent receives) in a memory buffer and then sampling a random mini-batch of experiences from the buffer to do the learning. The experience tuples $(S_t, A_t, R_t, S_{t+1})$ will be added to the memory buffer at each time step as the agent interacts with the environment.\n",
    "\n",
    "For convenience, we will store the experiences as named tuples."
   ]
  },
  {
   "cell_type": "code",
   "execution_count": 11,
   "metadata": {},
   "outputs": [],
   "source": [
    "# Store experiences as named tuples.\n",
    "experience = namedtuple(\"Experience\", field_names=[\"state\", \"action\", \"reward\", \"next_state\", \"done\"])"
   ]
  },
  {
   "cell_type": "markdown",
   "metadata": {},
   "source": [
    "By using experience replay we avoid problematic correlations, oscillations and instabilities. In addition, experience replay also allows the agent to potentially use the same experience in multiple weight updates, which increases data efficiency."
   ]
  },
  {
   "cell_type": "markdown",
   "metadata": {},
   "source": [
    "<a name=\"7\"></a>\n",
    "## 7 - Deep Q-Learning Algorithm with Experience Replay\n",
    "\n",
    "Now that we know all the techniques that we are going to use, we can put them together to arrive at the Deep Q-Learning Algorithm With Experience Replay.\n",
    "<br>\n",
    "<br>\n",
    "<figure>\n",
    "  <img src = \"images/deep_q_algorithm.png\" width = 90% style = \"border: thin silver solid; padding: 0px\">\n",
    "      <figcaption style = \"text-align: center; font-style: italic\">Fig 3. Deep Q-Learning with Experience Replay.</figcaption>\n",
    "</figure>"
   ]
  },
  {
   "cell_type": "markdown",
   "metadata": {},
   "source": [
    "<a name=\"ex02\"></a>\n",
    "### Exercise 2\n",
    "\n",
    "In this exercise you will implement line ***12*** of the algorithm outlined in *Fig 3* above and you will also compute the loss between the $y$ targets and the $Q(s,a)$ values. In the cell below, complete the `compute_loss` function by setting the $y$ targets equal to:\n",
    "\n",
    "$$\n",
    "\\begin{equation}\n",
    "    y_j =\n",
    "    \\begin{cases}\n",
    "      R_j & \\text{if episode terminates at step  } j+1\\\\\n",
    "      R_j + \\gamma \\max_{a'}\\hat{Q}(s_{j+1},a') & \\text{otherwise}\\\\\n",
    "    \\end{cases}       \n",
    "\\end{equation}\n",
    "$$\n",
    "\n",
    "Here are a couple of things to note:\n",
    "\n",
    "* The `compute_loss` function takes in a mini-batch of experience tuples. This mini-batch of experience tuples is unpacked to extract the `states`, `actions`, `rewards`, `next_states`, and `done_vals`. You should keep in mind that these variables are *TensorFlow Tensors* whose size will depend on the mini-batch size. For example, if the mini-batch size is `64` then both `rewards` and `done_vals` will be TensorFlow Tensors with `64` elements.\n",
    "\n",
    "\n",
    "* Using `if/else` statements to set the $y$ targets will not work when the variables are tensors with many elements. However, notice that you can use the `done_vals` to implement the above in a single line of code. To do this, recall that the `done` variable is a Boolean variable that takes the value `True` when an episode terminates at step $j+1$ and it is `False` otherwise. Taking into account that a Boolean value of `True` has the numerical value of `1` and a Boolean value of `False` has the numerical value of `0`, you can use the factor `(1 - done_vals)` to implement the above in a single line of code. Here's a hint: notice that `(1 - done_vals)` has a value of `0` when `done_vals` is `True` and a value of `1` when `done_vals` is `False`. \n",
    "\n",
    "Lastly, compute the loss by calculating the Mean-Squared Error (`MSE`) between the `y_targets` and the `q_values`. To calculate the mean-squared error you should use the already imported package `MSE`:\n",
    "```python\n",
    "from tensorflow.keras.losses import MSE\n",
    "```"
   ]
  },
  {
   "cell_type": "code",
   "execution_count": 12,
   "metadata": {},
   "outputs": [],
   "source": [
    "# UNQ_C2\n",
    "# GRADED FUNCTION: calculate_loss\n",
    "\n",
    "def compute_loss(experiences, gamma, q_network, target_q_network):\n",
    "    \"\"\" \n",
    "    Calculates the loss.\n",
    "    \n",
    "    Args:\n",
    "      experiences: (tuple) tuple of [\"state\", \"action\", \"reward\", \"next_state\", \"done\"] namedtuples\n",
    "      gamma: (float) The discount factor.\n",
    "      q_network: (tf.keras.Sequential) Keras model for predicting the q_values\n",
    "      target_q_network: (tf.keras.Sequential) Keras model for predicting the targets\n",
    "          \n",
    "    Returns:\n",
    "      loss: (TensorFlow Tensor(shape=(0,), dtype=int32)) the Mean-Squared Error between\n",
    "            the y targets and the Q(s,a) values.\n",
    "    \"\"\"\n",
    "    \n",
    "    # Unpack the mini-batch of experience tuples.\n",
    "    states, actions, rewards, next_states, done_vals = experiences\n",
    "    \n",
    "    # Compute max Q^(s,a).\n",
    "    max_qsa = tf.reduce_max(target_q_network(next_states), axis=-1)\n",
    "    \n",
    "    # Set y = R if episode terminates, otherwise set y = R + γ max Q^(s,a).\n",
    "    ### START CODE HERE ### \n",
    "    y_targets = ( (rewards) + (gamma * max_qsa * (1 - done_vals)) )\n",
    "    ### END CODE HERE ###\n",
    "    \n",
    "    # Get the q_values.\n",
    "    q_values = q_network(states)\n",
    "    q_values = tf.gather_nd(q_values, tf.stack([tf.range(q_values.shape[0]),\n",
    "                                                tf.cast(actions, tf.int32)], axis=1))\n",
    "        \n",
    "    # Compute the loss.\n",
    "    ### START CODE HERE ###\n",
    "    loss = MSE(y_targets, q_values)\n",
    "    ### END CODE HERE ###\n",
    "    \n",
    "    return loss"
   ]
  },
  {
   "cell_type": "code",
   "execution_count": 13,
   "metadata": {},
   "outputs": [
    {
     "name": "stdout",
     "output_type": "stream",
     "text": [
      "\u001b[92mAll tests passed!\n"
     ]
    }
   ],
   "source": [
    "# UNIT TEST    \n",
    "test_compute_loss(compute_loss)"
   ]
  },
  {
   "cell_type": "markdown",
   "metadata": {},
   "source": [
    "<details>\n",
    "  <summary><font size=\"3\" color=\"darkgreen\"><b>Click for hints</b></font></summary>\n",
    "    \n",
    "```python\n",
    "def compute_loss(experiences, gamma, q_network, target_q_network):\n",
    "    \"\"\" \n",
    "    Calculates the loss.\n",
    "    \n",
    "    Args:\n",
    "      experiences: (tuple) tuple of [\"state\", \"action\", \"reward\", \"next_state\", \"done\"] namedtuples\n",
    "      gamma: (float) The discount factor.\n",
    "      q_network: (tf.keras.Sequential) Keras model for predicting the q_values\n",
    "      target_q_network: (tf.keras.Sequential) Keras model for predicting the targets\n",
    "          \n",
    "    Returns:\n",
    "      loss: (TensorFlow Tensor(shape=(0,), dtype=int32)) the Mean-Squared Error between\n",
    "            the y targets and the Q(s,a) values.\n",
    "    \"\"\"\n",
    "\n",
    "    \n",
    "    # Unpack the mini-batch of experience tuples.\n",
    "    states, actions, rewards, next_states, done_vals = experiences\n",
    "    \n",
    "    # Compute max Q^(s,a).\n",
    "    max_qsa = tf.reduce_max(target_q_network(next_states), axis=-1)\n",
    "    \n",
    "    # Set y = R if episode terminates, otherwise set y = R + γ max Q^(s,a).\n",
    "    y_targets = rewards + (gamma * max_qsa * (1 - done_vals))\n",
    "    \n",
    "    # Get the q_values.\n",
    "    q_values = q_network(states)\n",
    "    q_values = tf.gather_nd(q_values, tf.stack([tf.range(q_values.shape[0]),\n",
    "                                                tf.cast(actions, tf.int32)], axis=1))\n",
    "    \n",
    "    # Calculate the loss.\n",
    "    loss = MSE(y_targets, q_values)\n",
    "    \n",
    "    return loss\n",
    "\n",
    "``` \n",
    "    "
   ]
  },
  {
   "cell_type": "markdown",
   "metadata": {},
   "source": [
    "<a name=\"8\"></a>\n",
    "## 8 - Update the Network Weights\n",
    "\n",
    "We will use the `agent_learn` function below to implement lines ***12 -14*** of the algorithm outlined in [Fig 3](#7). The `agent_learn` function will update the weights of the $Q$ and target $\\hat Q$ networks using a custom training loop. Because we are using a custom training loop we need to retrieve the gradients via a `tf.GradientTape` instance, and then call `optimizer.apply_gradients()` to update the weights of our $Q$-Network. Note that we are also using the `@tf.function` decorator to increase performance. Without this decorator our training will take twice as long. If you would like to know more about how to increase performance with `@tf.function` take a look at the [TensorFlow documentation](https://www.tensorflow.org/guide/function).\n",
    "\n",
    "The last line of this function updates the weights of the target $\\hat Q$-Network using a [soft update](#6.1). If you want to know how this is implemented in code we encourage you to take a look at the `utils.update_target_network` function in the `utils` module."
   ]
  },
  {
   "cell_type": "code",
   "execution_count": 14,
   "metadata": {},
   "outputs": [],
   "source": [
    "@tf.function\n",
    "def agent_learn(experiences, gamma):\n",
    "    \"\"\"\n",
    "    Updates the weights of the Q networks.\n",
    "    \n",
    "    Args:\n",
    "      experiences: (tuple) tuple of [\"state\", \"action\", \"reward\", \"next_state\", \"done\"] namedtuples\n",
    "      gamma: (float) The discount factor.\n",
    "    \n",
    "    \"\"\"\n",
    "    \n",
    "    # Calculate the loss.\n",
    "    with tf.GradientTape() as tape:\n",
    "        loss = compute_loss(experiences, gamma, q_network, target_q_network)\n",
    "\n",
    "    # Get the gradients of the loss with respect to the weights.\n",
    "    gradients = tape.gradient(loss, q_network.trainable_variables)\n",
    "    \n",
    "    # Update the weights of the q_network.\n",
    "    optimizer.apply_gradients(zip(gradients, q_network.trainable_variables))\n",
    "\n",
    "    # update the weights of target q_network.\n",
    "    utils.update_target_network(q_network, target_q_network)"
   ]
  },
  {
   "cell_type": "markdown",
   "metadata": {},
   "source": [
    "<a name=\"9\"></a>\n",
    "## 9 - Train the Agent\n",
    "\n",
    "We are now ready to train our agent to solve the Lunar Lander environment. In the cell below we will implement the algorithm in [Fig 3](#7) line by line (please note that we have included the same algorithm below for easy reference. This will prevent you from scrolling up and down the notebook):\n",
    "\n",
    "* **Line 1**: We initialize the `memory_buffer` with a capacity of $N =$ `MEMORY_SIZE`. Notice that we are using a `deque` as the data structure for our `memory_buffer`.\n",
    "\n",
    "\n",
    "* **Line 2**: We skip this line since we already initialized the `q_network` in [Exercise 1](#ex01).\n",
    "\n",
    "\n",
    "* **Line 3**: We initialize the `target_q_network` by setting its weights to be equal to those of the `q_network`.\n",
    "\n",
    "\n",
    "* **Line 4**: We start the outer loop. Notice that we have set $M =$ `num_episodes = 2000`. This number is reasonable because the agent should be able to solve the Lunar Lander environment in less than `2000` episodes using this notebook's default parameters.\n",
    "\n",
    "\n",
    "* **Line 5**: We use the `.reset()` method to reset the environment to the initial state and get the initial state.\n",
    "\n",
    "\n",
    "* **Line 6**: We start the inner loop. Notice that we have set $T =$ `max_num_timesteps = 1000`. This means that the episode will automatically terminate if the episode hasn't terminated after `1000` time steps.\n",
    "\n",
    "\n",
    "* **Line 7**: The agent observes the current `state` and chooses an `action` using an $\\epsilon$-greedy policy. Our agent starts out using a value of $\\epsilon =$ `epsilon = 1` which yields an $\\epsilon$-greedy policy that is equivalent to the equiprobable random policy. This means that at the beginning of our training, the agent is just going to take random actions regardless of the observed `state`. As training progresses we will decrease the value of $\\epsilon$ slowly towards a minimum value using a given $\\epsilon$-decay rate. We want this minimum value to be close to zero because a value of $\\epsilon = 0$ will yield an $\\epsilon$-greedy policy that is equivalent to the greedy policy. This means that towards the end of training, the agent will lean towards selecting the `action` that it believes (based on its past experiences) will maximize $Q(s,a)$. We will set the minimum $\\epsilon$ value to be `0.01` and not exactly 0 because we always want to keep a little bit of exploration during training. If you want to know how this is implemented in code we encourage you to take a look at the `utils.get_action` function in the `utils` module.\n",
    "\n",
    "\n",
    "* **Line 8**: We use the `.step()` method to take the given `action` in the environment and get the `reward` and the `next_state`. \n",
    "\n",
    "\n",
    "* **Line 9**: We store the `experience(state, action, reward, next_state, done)` tuple in our `memory_buffer`. Notice that we also store the `done` variable so that we can keep track of when an episode terminates. This allowed us to set the $y$ targets in [Exercise 2](#ex02).\n",
    "\n",
    "\n",
    "* **Line 10**: We check if the conditions are met to perform a learning update. We do this by using our custom `utils.check_update_conditions` function. This function checks if $C =$ `NUM_STEPS_FOR_UPDATE = 4` time steps have occured and if our `memory_buffer` has enough experience tuples to fill a mini-batch. For example, if the mini-batch size is `64`, then our `memory_buffer` should have more than `64` experience tuples in order to pass the latter condition. If the conditions are met, then the `utils.check_update_conditions` function will return a value of `True`, otherwise it will return a value of `False`.\n",
    "\n",
    "\n",
    "* **Lines 11 - 14**: If the `update` variable is `True` then we perform a learning update. The learning update consists of sampling a random mini-batch of experience tuples from our `memory_buffer`, setting the $y$ targets, performing gradient descent, and updating the weights of the networks. We will use the `agent_learn` function we defined in [Section 8](#8) to perform the latter 3.\n",
    "\n",
    "\n",
    "* **Line 15**: At the end of each iteration of the inner loop we set `next_state` as our new `state` so that the loop can start again from this new state. In addition, we check if the episode has reached a terminal state (i.e we check if `done = True`). If a terminal state has been reached, then we break out of the inner loop.\n",
    "\n",
    "\n",
    "* **Line 16**: At the end of each iteration of the outer loop we update the value of $\\epsilon$, and check if the environment has been solved. We consider that the environment has been solved if the agent receives an average of `200` points in the last `100` episodes. If the environment has not been solved we continue the outer loop and start a new episode.\n",
    "\n",
    "Finally, we wanted to note that we have included some extra variables to keep track of the total number of points the agent received in each episode. This will help us determine if the agent has solved the environment and it will also allow us to see how our agent performed during training. We also use the `time` module to measure how long the training takes. \n",
    "\n",
    "<br>\n",
    "<br>\n",
    "<figure>\n",
    "  <img src = \"images/deep_q_algorithm.png\" width = 90% style = \"border: thin silver solid; padding: 0px\">\n",
    "      <figcaption style = \"text-align: center; font-style: italic\">Fig 4. Deep Q-Learning with Experience Replay.</figcaption>\n",
    "</figure>\n",
    "<br>\n",
    "\n",
    "**Note:** With this notebook's default parameters, the following cell takes between 10 to 15 minutes to run. "
   ]
  },
  {
   "cell_type": "code",
   "execution_count": 19,
   "metadata": {},
   "outputs": [
    {
     "name": "stdout",
     "output_type": "stream",
     "text": [
      "Episode 100 | Total point average of the last 100 episodes: -113.94\n",
      "Episode 200 | Total point average of the last 100 episodes: -64.346\n",
      "Episode 300 | Total point average of the last 100 episodes: -33.50\n",
      "Episode 400 | Total point average of the last 100 episodes: -4.079\n",
      "Episode 500 | Total point average of the last 100 episodes: 173.57\n",
      "Episode 523 | Total point average of the last 100 episodes: 201.78\n",
      "\n",
      "Environment solved in 523 episodes!\n",
      "\n",
      "Total Runtime: 713.37 s (11.89 min)\n"
     ]
    }
   ],
   "source": [
    "start = time.time()\n",
    "\n",
    "num_episodes = 2000         # I have changed this parameter from 2000 to 200 (to run it in short time.)\n",
    "max_num_timesteps = 1000\n",
    "\n",
    "total_point_history = []\n",
    "\n",
    "num_p_av = 100    # number of total points to use for averaging.\n",
    "epsilon = 1.0     # initial ε value for ε-greedy policy.\n",
    "\n",
    "# Create a memory buffer D with capacity N.\n",
    "memory_buffer = deque(maxlen=MEMORY_SIZE)\n",
    "\n",
    "# Set the target network weights equal to the Q-Network weights.\n",
    "target_q_network.set_weights(q_network.get_weights())\n",
    "\n",
    "for i in range(num_episodes):\n",
    "    \n",
    "    # Reset the environment to the initial state and get the initial state.\n",
    "    state = env.reset()\n",
    "    total_points = 0\n",
    "    \n",
    "    for t in range(max_num_timesteps):\n",
    "        \n",
    "        # From the current state S choose an action A using an ε-greedy policy.\n",
    "        state_qn = np.expand_dims(state, axis=0)  # state needs to be the right shape for the q_network.\n",
    "        q_values = q_network(state_qn)\n",
    "        action = utils.get_action(q_values, epsilon)\n",
    "        \n",
    "        # Take action A and receive reward R and the next state S'.\n",
    "        next_state, reward, done, _ = env.step(action)\n",
    "        \n",
    "        # Store experience tuple (S,A,R,S') in the memory buffer.\n",
    "        # We store the done variable as well for convenience.\n",
    "        memory_buffer.append(experience(state, action, reward, next_state, done))\n",
    "        \n",
    "        # Only update the network every NUM_STEPS_FOR_UPDATE time steps.\n",
    "        update = utils.check_update_conditions(t, NUM_STEPS_FOR_UPDATE, memory_buffer)\n",
    "        \n",
    "        if update:\n",
    "            # Sample random mini-batch of experience tuples (S,A,R,S') from D.\n",
    "            experiences = utils.get_experiences(memory_buffer)\n",
    "            \n",
    "            # Set the y targets, perform a gradient descent step,\n",
    "            # and update the network weights.\n",
    "            agent_learn(experiences, GAMMA)\n",
    "        \n",
    "        state = next_state.copy()\n",
    "        total_points += reward\n",
    "        \n",
    "        if done:\n",
    "            break\n",
    "            \n",
    "    total_point_history.append(total_points)\n",
    "    av_latest_points = np.mean(total_point_history[-num_p_av:])\n",
    "    \n",
    "    # Update the ε value.\n",
    "    epsilon = utils.get_new_eps(epsilon)\n",
    "\n",
    "    print(f\"\\rEpisode {i+1} | Total point average of the last {num_p_av} episodes: {av_latest_points:.2f}\", end=\"\")\n",
    "\n",
    "    if (i+1) % num_p_av == 0:\n",
    "        print(f\"\\rEpisode {i+1} | Total point average of the last {num_p_av} episodes: {av_latest_points:.2f}\")\n",
    "\n",
    "    # We will consider that the environment is solved if we get an\n",
    "    # average of 200 points in the last 100 episodes.\n",
    "    if av_latest_points >= 200.0:\n",
    "        print(f\"\\n\\nEnvironment solved in {i+1} episodes!\")\n",
    "        q_network.save('lunar_lander_model.h5')\n",
    "        break\n",
    "        \n",
    "tot_time = time.time() - start\n",
    "\n",
    "print(f\"\\nTotal Runtime: {tot_time:.2f} s ({(tot_time/60):.2f} min)\")"
   ]
  },
  {
   "cell_type": "markdown",
   "metadata": {},
   "source": [
    "We can plot the total point history along with the moving average to see how our agent improved during training. If you want to know about the different plotting options available in the `utils.plot_history` function we encourage you to take a look at the `utils` module."
   ]
  },
  {
   "cell_type": "code",
   "execution_count": 20,
   "metadata": {
    "id": "E_EUXxurfe8m",
    "scrolled": false
   },
   "outputs": [
    {
     "data": {
      "image/png": "[encoded data removed]",
      "text/plain": [
       "<Figure size 720x504 with 1 Axes>"
      ]
     },
     "metadata": {},
     "output_type": "display_data"
    }
   ],
   "source": [
    "# Plot the total point history along with the moving average.\n",
    "utils.plot_history(total_point_history)"
   ]
  },
  {
   "cell_type": "markdown",
   "metadata": {
    "id": "c_xwgaX5MnYt"
   },
   "source": [
    "<a name=\"10\"></a>\n",
    "## 10 - See the Trained Agent In Action\n",
    "\n",
    "Now that we have trained our agent, we can see it in action. We will use the `utils.create_video` function to create a video of our agent interacting with the environment using the trained $Q$-Network. The `utils.create_video` function uses the `imageio` library to create the video. This library produces some warnings that can be distracting, so, to suppress these warnings we run the code below."
   ]
  },
  {
   "cell_type": "code",
   "execution_count": 21,
   "metadata": {},
   "outputs": [],
   "source": [
    "# Suppress warnings from imageio.\n",
    "import logging\n",
    "logging.getLogger().setLevel(logging.ERROR)"
   ]
  },
  {
   "cell_type": "markdown",
   "metadata": {},
   "source": [
    "In the cell below we create a video of our agent interacting with the Lunar Lander environment using the trained `q_network`. The video is saved to the `videos` folder with the given `filename`. We use the `utils.embed_mp4` function to embed the video in the Jupyter Notebook so that we can see it here directly without having to download it.\n",
    "\n",
    "We should note that since the lunar lander starts with a random initial force applied to its center of mass, every time you run the cell below you will see a different video. If the agent was trained properly, it should be able to land the lunar lander in the landing pad every time, regardless of the initial force applied to its center of mass."
   ]
  },
  {
   "cell_type": "code",
   "execution_count": 22,
   "metadata": {
    "id": "3Ttb_zLeJKiG"
   },
   "outputs": [
    {
     "data": {
      "text/html": [
       "\n",
       "    <video width=\"840\" height=\"480\" controls>\n",
       "    <source src=\"data:video/mp4;base64,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\" type=\"video/mp4\">\n",
       "    Your browser does not support the video tag.\n",
       "    </video>"
      ],
      "text/plain": [
       "<IPython.core.display.HTML object>"
      ]
     },
     "execution_count": 22,
     "metadata": {},
     "output_type": "execute_result"
    }
   ],
   "source": [
    "filename = \"./videos/lunar_lander.mp4\"\n",
    "\n",
    "utils.create_video(filename, env, q_network)\n",
    "utils.embed_mp4(filename)"
   ]
  },
  {
   "cell_type": "markdown",
   "metadata": {},
   "source": [
    "<a name=\"11\"></a>\n",
    "## 11 - Congratulations!\n",
    "\n",
    "You have successfully used Deep Q-Learning with Experience Replay to train an agent to land a lunar lander safely on a landing pad on the surface of the moon. Congratulations!"
   ]
  },
  {
   "cell_type": "markdown",
   "metadata": {},
   "source": [
    "<a name=\"12\"></a>\n",
    "## 12 - References\n",
    "\n",
    "If you would like to learn more about Deep Q-Learning, we recommend you check out the following papers.\n",
    "\n",
    "\n",
    "* Mnih, V., Kavukcuoglu, K., Silver, D. et al. Human-level control through deep reinforcement learning. Nature 518, 529–533 (2015).\n",
    "\n",
    "\n",
    "* Lillicrap, T. P., Hunt, J. J., Pritzel, A., et al. Continuous Control with Deep Reinforcement Learning. ICLR (2016).\n",
    "\n",
    "\n",
    "* Mnih, V., Kavukcuoglu, K., Silver, D. et al. Playing Atari with Deep Reinforcement Learning. arXiv e-prints.  arXiv:1312.5602 (2013)."
   ]
  },
  {
   "cell_type": "code",
   "execution_count": null,
   "metadata": {},
   "outputs": [],
   "source": []
  },
  {
   "cell_type": "code",
   "execution_count": null,
   "metadata": {},
   "outputs": [],
   "source": []
  }
 ],
 "metadata": {
  "accelerator": "GPU",
  "colab": {
   "collapsed_sections": [],
   "name": "TensorFlow - Lunar Lander.ipynb",
   "provenance": []
  },
  "kernelspec": {
   "display_name": "Python 3",
   "language": "python",
   "name": "python3"
  },
  "language_info": {
   "codemirror_mode": {
    "name": "ipython",
    "version": 3
   },
   "file_extension": ".py",
   "mimetype": "text/x-python",
   "name": "python",
   "nbconvert_exporter": "python",
   "pygments_lexer": "ipython3",
   "version": "3.7.6"
  }
 },
 "nbformat": 4,
 "nbformat_minor": 1
}
